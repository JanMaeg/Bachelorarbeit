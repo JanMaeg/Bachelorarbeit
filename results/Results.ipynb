{
 "cells": [
  {
   "cell_type": "markdown",
   "id": "6fe3c072-05a8-4b69-85fe-6eae70b91e72",
   "metadata": {},
   "source": [
    "## Document based evaluation"
   ]
  },
  {
   "cell_type": "code",
   "execution_count": 6,
   "id": "b87e2a0e-dbe0-48e5-9289-a5cd021c2837",
   "metadata": {
    "tags": []
   },
   "outputs": [],
   "source": [
    "%matplotlib inline"
   ]
  },
  {
   "cell_type": "code",
   "execution_count": 7,
   "id": "a0ce0d0b-ad6c-4480-9af6-b5376dc6dca5",
   "metadata": {
    "tags": []
   },
   "outputs": [],
   "source": [
    "import matplotlib.pyplot as plt\n",
    "import numpy as np"
   ]
  },
  {
   "cell_type": "code",
   "execution_count": 23,
   "id": "c52658d2-56a0-46f8-b7de-74e305beba90",
   "metadata": {
    "tags": []
   },
   "outputs": [],
   "source": [
    "# 1\tDROC\tTRUE\tstring\t0\t128 \t512\n",
    "f1_scores = [0.7215714580701035, 0.6421251277435972, 0.7993769981923081, 0.7780195875297119, 0.7914425145651905, 0.7615444186917205, 0.756553475370214, 0.7299266290188849, 0.7948941583429351, 0.759438887308158, 0.6709714197512775, 0.7773043478712075, 0.6688654847881494, 0.6454120832192847, 0.7377960169989967, 0.7274484313687545, 0.7236455502449827, 0.7940345457825079]\n",
    "recalls = [0.6590391154930594, 0.6130349450429587, 0.7488686808122229, 0.7451532492265609, 0.7536513276482499, 0.7282096409647316, 0.72466515548361, 0.7164038137348512, 0.747251795655476, 0.7593789285838328, 0.7118378040033075, 0.7404400011157749, 0.6126177638995521, 0.628082132543339, 0.7360872601425553, 0.742109945085406, 0.7124217348369472, 0.7653230342249374]\n",
    "precisions = [0.8184506518260225, 0.6891383497189852, 0.8653051058461557, 0.8470822305785664, 0.8776772993068084, 0.8488807896223957, 0.8560040236113714, 0.7730259315761024, 0.8930929658178347, 0.7759720066153865, 0.6963066679069473, 0.8318955054069918, 0.7611422991731406, 0.7369640794898795, 0.7673138056158875, 0.7702052746827981, 0.797193245649669, 0.862961244293771]\n",
    "documents = np.arange(len(f1_scores))"
   ]
  },
  {
   "cell_type": "code",
   "execution_count": 15,
   "id": "b85d6918-1f0e-4efa-9fef-31425169c82a",
   "metadata": {
    "tags": []
   },
   "outputs": [],
   "source": [
    "# 2\tDROC\tTRUE\toverlapping\t2\t128 \t512\n",
    "exp2_f1_scores = [0.6697462326620469, 0.7504682845222771, 0.8294253965552404, 0.8150453244152466, 0.7202733406560231, 0.8292010574239529, 0.8584367780263259, 0.8076224026367611, 0.8135256425391603, 0.8809533392216712, 0.8206456265452852, 0.8363373230385945, 0.8240905346486057, 0.832916813954887, 0.7915507122409501, 0.6958925918168496, 0.7078881934219954, 0.8366815764245871]\n",
    "exp2_recalls = [0.6468410094120979, 0.7205441642461176, 0.8347932715846479, 0.8141570054278967, 0.6929922217185838, 0.819434613526107, 0.8696360189316796, 0.7976210245573506, 0.8011928845637252, 0.890480776658821, 0.8199732023084613, 0.8303308486386028, 0.8210695959272788, 0.8387349093394688, 0.7857274392006858, 0.6676847581572137, 0.6634051190479063, 0.8331900701125955]\n",
    "exp2_precisions = [0.7814516780328677, 0.8143199349709809, 0.8250525676468957, 0.8228926560440767, 0.8084453231220161, 0.8439765759818427, 0.8483613189089616, 0.8307849107606561, 0.8319510293065028, 0.8722790164647914, 0.8231128073265692, 0.8470779554162918, 0.8298240377020623, 0.8278627095353283, 0.8178006869828992, 0.7876553202731157, 0.7943124489536945, 0.8416731983068839]"
   ]
  },
  {
   "cell_type": "code",
   "execution_count": 40,
   "id": "3af93bf5-d3da-47d7-91e7-f2f1f476ff8b",
   "metadata": {
    "tags": []
   },
   "outputs": [],
   "source": [
    "exp3_f1_scores = [0.6843789314074814, 0.6600789102818281, 0.8597900272817349, 0.7046969565417486, 0.6509656961257475, 0.6770679004223034, 0.759065504888517, 0.6931204033375004, 0.6831749562082877, 0.8135619820372204, 0.6631387808978405, 0.7490088179140709, 0.7169734087627183, 0.7586964471329226, 0.7255486486295926, 0.7157649421620835, 0.6540513832230703, 0.7633084545918534]\n",
    "exp3_recalls = [0.649765372052577, 0.5982194926467587, 0.8094009527886558, 0.65688384528069, 0.5983886199419778, 0.6352134196503086, 0.6862916503673784, 0.6432313256795327, 0.6094335716570808, 0.7698444849426128, 0.5946583375579304, 0.6861787377139684, 0.7030317345435672, 0.7192681943936847, 0.6768227875978177, 0.6792323126114024, 0.61712959718139, 0.7174172229056271]\n",
    "exp3_precisions = [0.727429751954832, 0.7591294245060108, 0.9295962836085824, 0.7657697307505299, 0.7257621748520985, 0.7618838367759144, 0.891329433526653, 0.7595062994507207, 0.8109194032091095, 0.8743659372812266, 0.7732176636454268, 0.8386889184486769, 0.7811713337152216, 0.8524984072371051, 0.7947174560985429, 0.7672589123969565, 0.7223228083568927, 0.8196998427116041]"
   ]
  },
  {
   "cell_type": "code",
   "execution_count": 47,
   "id": "460447f6-2893-4a9a-85ed-4352ddfe1994",
   "metadata": {
    "tags": []
   },
   "outputs": [],
   "source": [
    "exp4_f1_scores = [0.5921474676712167, 0.624192059614261, 0.7497494075123287, 0.6126371765424978, 0.6294151596881635, 0.6358125327591203, 0.6546862632143077, 0.6851401340065505, 0.6436757416992854, 0.8039738021235009, 0.7052418558662313, 0.7537176477028117, 0.6838120956519887, 0.7184757157143894, 0.7119423475454831]"
   ]
  },
  {
   "cell_type": "code",
   "execution_count": 49,
   "id": "7e13a455-86b2-4b3d-863a-92cc13c75f31",
   "metadata": {
    "tags": []
   },
   "outputs": [
    {
     "ename": "ValueError",
     "evalue": "shape mismatch: objects cannot be broadcast to a single shape.  Mismatch is between arg 0 with shape (18,) and arg 1 with shape (15,).",
     "output_type": "error",
     "traceback": [
      "\u001B[0;31m---------------------------------------------------------------------------\u001B[0m",
      "\u001B[0;31mValueError\u001B[0m                                Traceback (most recent call last)",
      "Cell \u001B[0;32mIn[49], line 5\u001B[0m\n\u001B[1;32m      3\u001B[0m ax\u001B[38;5;241m.\u001B[39mbar(documents, exp2_f1_scores, color \u001B[38;5;241m=\u001B[39m \u001B[38;5;124m'\u001B[39m\u001B[38;5;124mr\u001B[39m\u001B[38;5;124m'\u001B[39m, width \u001B[38;5;241m=\u001B[39m \u001B[38;5;241m0.25\u001B[39m)\n\u001B[1;32m      4\u001B[0m ax\u001B[38;5;241m.\u001B[39mbar(documents \u001B[38;5;241m+\u001B[39m \u001B[38;5;241m0.25\u001B[39m, exp3_f1_scores, color \u001B[38;5;241m=\u001B[39m \u001B[38;5;124m'\u001B[39m\u001B[38;5;124mg\u001B[39m\u001B[38;5;124m'\u001B[39m, width \u001B[38;5;241m=\u001B[39m \u001B[38;5;241m0.25\u001B[39m)\n\u001B[0;32m----> 5\u001B[0m \u001B[43max\u001B[49m\u001B[38;5;241;43m.\u001B[39;49m\u001B[43mbar\u001B[49m\u001B[43m(\u001B[49m\u001B[43mdocuments\u001B[49m\u001B[43m \u001B[49m\u001B[38;5;241;43m+\u001B[39;49m\u001B[43m \u001B[49m\u001B[38;5;241;43m0.25\u001B[39;49m\u001B[43m,\u001B[49m\u001B[43m \u001B[49m\u001B[43mexp4_f1_scores\u001B[49m\u001B[43m,\u001B[49m\u001B[43m \u001B[49m\u001B[43mcolor\u001B[49m\u001B[43m \u001B[49m\u001B[38;5;241;43m=\u001B[39;49m\u001B[43m \u001B[49m\u001B[38;5;124;43m'\u001B[39;49m\u001B[38;5;124;43my\u001B[39;49m\u001B[38;5;124;43m'\u001B[39;49m\u001B[43m,\u001B[49m\u001B[43m \u001B[49m\u001B[43mwidth\u001B[49m\u001B[38;5;241;43m=\u001B[39;49m\u001B[38;5;241;43m0.25\u001B[39;49m\u001B[43m)\u001B[49m\n\u001B[1;32m      6\u001B[0m ax\u001B[38;5;241m.\u001B[39mset_xticks(documents)\n\u001B[1;32m      7\u001B[0m ax\u001B[38;5;241m.\u001B[39mset_ylabel(\u001B[38;5;124m'\u001B[39m\u001B[38;5;124mF1-Score\u001B[39m\u001B[38;5;124m'\u001B[39m)\n",
      "File \u001B[0;32m~/Documents/Studium/Bachelorarbeit/repository/venv/lib/python3.10/site-packages/matplotlib/__init__.py:1433\u001B[0m, in \u001B[0;36m_preprocess_data.<locals>.inner\u001B[0;34m(ax, data, *args, **kwargs)\u001B[0m\n\u001B[1;32m   1430\u001B[0m \u001B[38;5;129m@functools\u001B[39m\u001B[38;5;241m.\u001B[39mwraps(func)\n\u001B[1;32m   1431\u001B[0m \u001B[38;5;28;01mdef\u001B[39;00m \u001B[38;5;21minner\u001B[39m(ax, \u001B[38;5;241m*\u001B[39margs, data\u001B[38;5;241m=\u001B[39m\u001B[38;5;28;01mNone\u001B[39;00m, \u001B[38;5;241m*\u001B[39m\u001B[38;5;241m*\u001B[39mkwargs):\n\u001B[1;32m   1432\u001B[0m     \u001B[38;5;28;01mif\u001B[39;00m data \u001B[38;5;129;01mis\u001B[39;00m \u001B[38;5;28;01mNone\u001B[39;00m:\n\u001B[0;32m-> 1433\u001B[0m         \u001B[38;5;28;01mreturn\u001B[39;00m \u001B[43mfunc\u001B[49m\u001B[43m(\u001B[49m\u001B[43max\u001B[49m\u001B[43m,\u001B[49m\u001B[43m \u001B[49m\u001B[38;5;241;43m*\u001B[39;49m\u001B[38;5;28;43mmap\u001B[39;49m\u001B[43m(\u001B[49m\u001B[43msanitize_sequence\u001B[49m\u001B[43m,\u001B[49m\u001B[43m \u001B[49m\u001B[43margs\u001B[49m\u001B[43m)\u001B[49m\u001B[43m,\u001B[49m\u001B[43m \u001B[49m\u001B[38;5;241;43m*\u001B[39;49m\u001B[38;5;241;43m*\u001B[39;49m\u001B[43mkwargs\u001B[49m\u001B[43m)\u001B[49m\n\u001B[1;32m   1435\u001B[0m     bound \u001B[38;5;241m=\u001B[39m new_sig\u001B[38;5;241m.\u001B[39mbind(ax, \u001B[38;5;241m*\u001B[39margs, \u001B[38;5;241m*\u001B[39m\u001B[38;5;241m*\u001B[39mkwargs)\n\u001B[1;32m   1436\u001B[0m     auto_label \u001B[38;5;241m=\u001B[39m (bound\u001B[38;5;241m.\u001B[39marguments\u001B[38;5;241m.\u001B[39mget(label_namer)\n\u001B[1;32m   1437\u001B[0m                   \u001B[38;5;129;01mor\u001B[39;00m bound\u001B[38;5;241m.\u001B[39mkwargs\u001B[38;5;241m.\u001B[39mget(label_namer))\n",
      "File \u001B[0;32m~/Documents/Studium/Bachelorarbeit/repository/venv/lib/python3.10/site-packages/matplotlib/axes/_axes.py:2397\u001B[0m, in \u001B[0;36mAxes.bar\u001B[0;34m(self, x, height, width, bottom, align, **kwargs)\u001B[0m\n\u001B[1;32m   2394\u001B[0m     \u001B[38;5;28;01mif\u001B[39;00m yerr \u001B[38;5;129;01mis\u001B[39;00m \u001B[38;5;129;01mnot\u001B[39;00m \u001B[38;5;28;01mNone\u001B[39;00m:\n\u001B[1;32m   2395\u001B[0m         yerr \u001B[38;5;241m=\u001B[39m \u001B[38;5;28mself\u001B[39m\u001B[38;5;241m.\u001B[39m_convert_dx(yerr, y0, y, \u001B[38;5;28mself\u001B[39m\u001B[38;5;241m.\u001B[39mconvert_yunits)\n\u001B[0;32m-> 2397\u001B[0m x, height, width, y, linewidth, hatch \u001B[38;5;241m=\u001B[39m \u001B[43mnp\u001B[49m\u001B[38;5;241;43m.\u001B[39;49m\u001B[43mbroadcast_arrays\u001B[49m\u001B[43m(\u001B[49m\n\u001B[1;32m   2398\u001B[0m \u001B[43m    \u001B[49m\u001B[38;5;66;43;03m# Make args iterable too.\u001B[39;49;00m\n\u001B[1;32m   2399\u001B[0m \u001B[43m    \u001B[49m\u001B[43mnp\u001B[49m\u001B[38;5;241;43m.\u001B[39;49m\u001B[43matleast_1d\u001B[49m\u001B[43m(\u001B[49m\u001B[43mx\u001B[49m\u001B[43m)\u001B[49m\u001B[43m,\u001B[49m\u001B[43m \u001B[49m\u001B[43mheight\u001B[49m\u001B[43m,\u001B[49m\u001B[43m \u001B[49m\u001B[43mwidth\u001B[49m\u001B[43m,\u001B[49m\u001B[43m \u001B[49m\u001B[43my\u001B[49m\u001B[43m,\u001B[49m\u001B[43m \u001B[49m\u001B[43mlinewidth\u001B[49m\u001B[43m,\u001B[49m\u001B[43m \u001B[49m\u001B[43mhatch\u001B[49m\u001B[43m)\u001B[49m\n\u001B[1;32m   2401\u001B[0m \u001B[38;5;66;03m# Now that units have been converted, set the tick locations.\u001B[39;00m\n\u001B[1;32m   2402\u001B[0m \u001B[38;5;28;01mif\u001B[39;00m orientation \u001B[38;5;241m==\u001B[39m \u001B[38;5;124m'\u001B[39m\u001B[38;5;124mvertical\u001B[39m\u001B[38;5;124m'\u001B[39m:\n",
      "File \u001B[0;32m<__array_function__ internals>:180\u001B[0m, in \u001B[0;36mbroadcast_arrays\u001B[0;34m(*args, **kwargs)\u001B[0m\n",
      "File \u001B[0;32m~/Documents/Studium/Bachelorarbeit/repository/venv/lib/python3.10/site-packages/numpy/lib/stride_tricks.py:540\u001B[0m, in \u001B[0;36mbroadcast_arrays\u001B[0;34m(subok, *args)\u001B[0m\n\u001B[1;32m    533\u001B[0m \u001B[38;5;66;03m# nditer is not used here to avoid the limit of 32 arrays.\u001B[39;00m\n\u001B[1;32m    534\u001B[0m \u001B[38;5;66;03m# Otherwise, something like the following one-liner would suffice:\u001B[39;00m\n\u001B[1;32m    535\u001B[0m \u001B[38;5;66;03m# return np.nditer(args, flags=['multi_index', 'zerosize_ok'],\u001B[39;00m\n\u001B[1;32m    536\u001B[0m \u001B[38;5;66;03m#                  order='C').itviews\u001B[39;00m\n\u001B[1;32m    538\u001B[0m args \u001B[38;5;241m=\u001B[39m [np\u001B[38;5;241m.\u001B[39marray(_m, copy\u001B[38;5;241m=\u001B[39m\u001B[38;5;28;01mFalse\u001B[39;00m, subok\u001B[38;5;241m=\u001B[39msubok) \u001B[38;5;28;01mfor\u001B[39;00m _m \u001B[38;5;129;01min\u001B[39;00m args]\n\u001B[0;32m--> 540\u001B[0m shape \u001B[38;5;241m=\u001B[39m \u001B[43m_broadcast_shape\u001B[49m\u001B[43m(\u001B[49m\u001B[38;5;241;43m*\u001B[39;49m\u001B[43margs\u001B[49m\u001B[43m)\u001B[49m\n\u001B[1;32m    542\u001B[0m \u001B[38;5;28;01mif\u001B[39;00m \u001B[38;5;28mall\u001B[39m(array\u001B[38;5;241m.\u001B[39mshape \u001B[38;5;241m==\u001B[39m shape \u001B[38;5;28;01mfor\u001B[39;00m array \u001B[38;5;129;01min\u001B[39;00m args):\n\u001B[1;32m    543\u001B[0m     \u001B[38;5;66;03m# Common case where nothing needs to be broadcasted.\u001B[39;00m\n\u001B[1;32m    544\u001B[0m     \u001B[38;5;28;01mreturn\u001B[39;00m args\n",
      "File \u001B[0;32m~/Documents/Studium/Bachelorarbeit/repository/venv/lib/python3.10/site-packages/numpy/lib/stride_tricks.py:422\u001B[0m, in \u001B[0;36m_broadcast_shape\u001B[0;34m(*args)\u001B[0m\n\u001B[1;32m    417\u001B[0m \u001B[38;5;250m\u001B[39m\u001B[38;5;124;03m\"\"\"Returns the shape of the arrays that would result from broadcasting the\u001B[39;00m\n\u001B[1;32m    418\u001B[0m \u001B[38;5;124;03msupplied arrays against each other.\u001B[39;00m\n\u001B[1;32m    419\u001B[0m \u001B[38;5;124;03m\"\"\"\u001B[39;00m\n\u001B[1;32m    420\u001B[0m \u001B[38;5;66;03m# use the old-iterator because np.nditer does not handle size 0 arrays\u001B[39;00m\n\u001B[1;32m    421\u001B[0m \u001B[38;5;66;03m# consistently\u001B[39;00m\n\u001B[0;32m--> 422\u001B[0m b \u001B[38;5;241m=\u001B[39m \u001B[43mnp\u001B[49m\u001B[38;5;241;43m.\u001B[39;49m\u001B[43mbroadcast\u001B[49m\u001B[43m(\u001B[49m\u001B[38;5;241;43m*\u001B[39;49m\u001B[43margs\u001B[49m\u001B[43m[\u001B[49m\u001B[43m:\u001B[49m\u001B[38;5;241;43m32\u001B[39;49m\u001B[43m]\u001B[49m\u001B[43m)\u001B[49m\n\u001B[1;32m    423\u001B[0m \u001B[38;5;66;03m# unfortunately, it cannot handle 32 or more arguments directly\u001B[39;00m\n\u001B[1;32m    424\u001B[0m \u001B[38;5;28;01mfor\u001B[39;00m pos \u001B[38;5;129;01min\u001B[39;00m \u001B[38;5;28mrange\u001B[39m(\u001B[38;5;241m32\u001B[39m, \u001B[38;5;28mlen\u001B[39m(args), \u001B[38;5;241m31\u001B[39m):\n\u001B[1;32m    425\u001B[0m     \u001B[38;5;66;03m# ironically, np.broadcast does not properly handle np.broadcast\u001B[39;00m\n\u001B[1;32m    426\u001B[0m     \u001B[38;5;66;03m# objects (it treats them as scalars)\u001B[39;00m\n\u001B[1;32m    427\u001B[0m     \u001B[38;5;66;03m# use broadcasting to avoid allocating the full array\u001B[39;00m\n",
      "\u001B[0;31mValueError\u001B[0m: shape mismatch: objects cannot be broadcast to a single shape.  Mismatch is between arg 0 with shape (18,) and arg 1 with shape (15,)."
     ]
    },
    {
     "data": {
      "image/png": "[encoded data removed]",
      "text/plain": [
       "<Figure size 1500x350 with 1 Axes>"
      ]
     },
     "metadata": {},
     "output_type": "display_data"
    }
   ],
   "source": [
    "fig, ax = plt.subplots(figsize=(15,3.5))\n",
    "ax.bar(documents - 0.25, f1_scores, color = 'b', width = 0.25)\n",
    "ax.bar(documents, exp2_f1_scores, color = 'r', width = 0.25)\n",
    "ax.bar(documents + 0.25, exp3_f1_scores, color = 'g', width = 0.25)\n",
    "ax.bar(documents + 0.25, exp4_f1_scores, color = 'y', width = 0.25)\n",
    "ax.set_xticks(documents)\n",
    "ax.set_ylabel('F1-Score')\n",
    "ax.set_xlabel('Document Index')\n",
    "ax.legend(labels=['String', 'Overlapping', 'Embedding', 'Neural'])\n",
    "ax.set_title('F1-Scores for individual documents for all merging methods (Split-Length 512)')\n",
    "plt.tight_layout()"
   ]
  },
  {
   "cell_type": "markdown",
   "id": "ba0a21d7-a727-424a-a3f8-7f5caaed66bd",
   "metadata": {},
   "source": [
    "### The variance is bigger for the overlapping method then for the string method.\n",
    "\n",
    "This can be explaned by lost context in the overlapping method. If an entitiy doesn't appear in one split the context will be lost and a new entitiy is added instead."
   ]
  },
  {
   "cell_type": "code",
   "execution_count": 38,
   "id": "88673cbb-2ef7-46a5-95f1-9ad05d665bcd",
   "metadata": {
    "tags": []
   },
   "outputs": [
    {
     "data": {
      "text/plain": [
       "0.0025107415201643395"
      ]
     },
     "execution_count": 38,
     "metadata": {},
     "output_type": "execute_result"
    }
   ],
   "source": [
    "np.var(f1_scores)"
   ]
  },
  {
   "cell_type": "code",
   "execution_count": 39,
   "id": "4b829a07-a4e9-45cb-a91b-574e28e1e288",
   "metadata": {
    "tags": []
   },
   "outputs": [
    {
     "data": {
      "text/plain": [
       "0.003429503650397108"
      ]
     },
     "execution_count": 39,
     "metadata": {},
     "output_type": "execute_result"
    }
   ],
   "source": [
    "np.var(exp2_f1_scores)"
   ]
  }
 ],
 "metadata": {
  "kernelspec": {
   "display_name": "Python 3 (ipykernel)",
   "language": "python",
   "name": "python3"
  },
  "language_info": {
   "codemirror_mode": {
    "name": "ipython",
    "version": 3
   },
   "file_extension": ".py",
   "mimetype": "text/x-python",
   "name": "python",
   "nbconvert_exporter": "python",
   "pygments_lexer": "ipython3",
   "version": "3.10.6"
  }
 },
 "nbformat": 4,
 "nbformat_minor": 5
}
