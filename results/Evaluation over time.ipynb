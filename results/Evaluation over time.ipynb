{
 "cells": [
  {
   "cell_type": "code",
   "execution_count": 31,
   "id": "0a5d92a6",
   "metadata": {},
   "outputs": [
    {
     "name": "stderr",
     "output_type": "stream",
     "text": [
      "/var/folders/6k/r7gd6s_945scn7fmctn0d_r00000gn/T/ipykernel_9733/925246906.py:27: VisibleDeprecationWarning: Creating an ndarray from ragged nested sequences (which is a list-or-tuple of lists-or-tuples-or ndarrays with different lengths or shapes) is deprecated. If you meant to do this, you must specify 'dtype=object' when creating the ndarray.\n",
      "  f1s_droc = np.array(f1s_droc)\n",
      "/var/folders/6k/r7gd6s_945scn7fmctn0d_r00000gn/T/ipykernel_9733/925246906.py:28: VisibleDeprecationWarning: Creating an ndarray from ragged nested sequences (which is a list-or-tuple of lists-or-tuples-or ndarrays with different lengths or shapes) is deprecated. If you meant to do this, you must specify 'dtype=object' when creating the ndarray.\n",
      "  f1s_news = np.array(f1s_news)\n"
     ]
    }
   ],
   "source": [
    "import json\n",
    "import matplotlib.pyplot as plt\n",
    "import numpy as np\n",
    "            \n",
    "with open('evaluation_over_time.json') as f:  \n",
    "      data = json.load(f)\n",
    "        \n",
    "with open('evaluation_over_time_2.json') as f:  \n",
    "      data_news = json.load(f)        \n",
    "\n",
    "f1s_droc = []        \n",
    "f1s_news = []\n",
    "        \n",
    "for results in data.values():\n",
    "    f1 = results[\"f1\"]\n",
    "    f1s_droc.append(np.array(f1))\n",
    "    \n",
    "for results in data_news.values():\n",
    "    f1 = results[\"f1\"]\n",
    "    \n",
    "    if len(f1) < 19:\n",
    "        f1s_news.append(np.array(f1))\n",
    "    \n",
    "max_length_droc = max([len(f1s) for f1s in f1s_droc])\n",
    "max_length_news = max([len(f1s) for f1s in f1s_news])\n",
    "\n",
    "f1s_droc = np.array(f1s_droc)\n",
    "f1s_news = np.array(f1s_news)\n",
    "\n",
    "#print(f1s_droc[:0])\n",
    "\n",
    "#for i in range(0, max_length_droc):\n",
    "#    print(f1s_droc[:i])"
   ]
  }
 ],
 "metadata": {
  "kernelspec": {
   "display_name": "Python 3 (ipykernel)",
   "language": "python",
   "name": "python3"
  },
  "language_info": {
   "codemirror_mode": {
    "name": "ipython",
    "version": 3
   },
   "file_extension": ".py",
   "mimetype": "text/x-python",
   "name": "python",
   "nbconvert_exporter": "python",
   "pygments_lexer": "ipython3",
   "version": "3.10.6"
  }
 },
 "nbformat": 4,
 "nbformat_minor": 5
}
